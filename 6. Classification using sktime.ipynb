{
 "cells": [
  {
   "cell_type": "code",
   "execution_count": 1,
   "id": "4908eace",
   "metadata": {},
   "outputs": [],
   "source": [
    "import numpy as np\n",
    "import matplotlib.pyplot as plt\n",
    "\n",
    "from sklearn.metrics import accuracy_score\n",
    "from sklearn.model_selection import train_test_split\n",
    "from sklearn.pipeline import Pipeline\n",
    "from sklearn.tree import DecisionTreeClassifier\n",
    "from sklearn.model_selection import train_test_split\n",
    "from sklearn.pipeline import Pipeline\n",
    "\n",
    "from sktime.datasets import load_basic_motions\n",
    "from sktime.datasets import load_arrow_head\n",
    "\n",
    "from sktime.classification.compose import ColumnEnsembleClassifier\n",
    "from sktime.classification.dictionary_based import BOSSEnsemble\n",
    "from sktime.classification.interval_based import TimeSeriesForestClassifier\n",
    "from sktime.classification.compose import ComposableTimeSeriesForestClassifier\n",
    "\n",
    "from sktime.transformations.panel.compose import ColumnConcatenator\n",
    "\n",
    "from sktime.utils.slope_and_trend import _slope"
   ]
  },
  {
   "cell_type": "code",
   "execution_count": 2,
   "id": "93781113",
   "metadata": {},
   "outputs": [
    {
     "name": "stdout",
     "output_type": "stream",
     "text": [
      "(158, 1) (158,) (53, 1) (53,)\n"
     ]
    }
   ],
   "source": [
    "X, y = load_arrow_head(return_X_y=True)\n",
    "X_train, X_test, y_train, y_test = train_test_split(X, y)\n",
    "print(X_train.shape, y_train.shape, X_test.shape, y_test.shape)"
   ]
  },
  {
   "cell_type": "code",
   "execution_count": 3,
   "id": "9890b014",
   "metadata": {},
   "outputs": [
    {
     "data": {
      "text/plain": [
       "(pandas.core.frame.DataFrame, numpy.ndarray)"
      ]
     },
     "execution_count": 3,
     "metadata": {},
     "output_type": "execute_result"
    }
   ],
   "source": [
    "type(X), type(y)"
   ]
  },
  {
   "cell_type": "code",
   "execution_count": 4,
   "id": "f22d56b4",
   "metadata": {},
   "outputs": [
    {
     "data": {
      "text/html": [
       "<div>\n",
       "<style scoped>\n",
       "    .dataframe tbody tr th:only-of-type {\n",
       "        vertical-align: middle;\n",
       "    }\n",
       "\n",
       "    .dataframe tbody tr th {\n",
       "        vertical-align: top;\n",
       "    }\n",
       "\n",
       "    .dataframe thead th {\n",
       "        text-align: right;\n",
       "    }\n",
       "</style>\n",
       "<table border=\"1\" class=\"dataframe\">\n",
       "  <thead>\n",
       "    <tr style=\"text-align: right;\">\n",
       "      <th></th>\n",
       "      <th>dim_0</th>\n",
       "    </tr>\n",
       "  </thead>\n",
       "  <tbody>\n",
       "    <tr>\n",
       "      <th>0</th>\n",
       "      <td>0     -1.963009\n",
       "1     -1.957825\n",
       "2     -1.95614...</td>\n",
       "    </tr>\n",
       "    <tr>\n",
       "      <th>1</th>\n",
       "      <td>0     -1.774571\n",
       "1     -1.774036\n",
       "2     -1.77658...</td>\n",
       "    </tr>\n",
       "    <tr>\n",
       "      <th>2</th>\n",
       "      <td>0     -1.866021\n",
       "1     -1.841991\n",
       "2     -1.83502...</td>\n",
       "    </tr>\n",
       "    <tr>\n",
       "      <th>3</th>\n",
       "      <td>0     -2.073758\n",
       "1     -2.073301\n",
       "2     -2.04460...</td>\n",
       "    </tr>\n",
       "    <tr>\n",
       "      <th>4</th>\n",
       "      <td>0     -1.746255\n",
       "1     -1.741263\n",
       "2     -1.72274...</td>\n",
       "    </tr>\n",
       "  </tbody>\n",
       "</table>\n",
       "</div>"
      ],
      "text/plain": [
       "                                               dim_0\n",
       "0  0     -1.963009\n",
       "1     -1.957825\n",
       "2     -1.95614...\n",
       "1  0     -1.774571\n",
       "1     -1.774036\n",
       "2     -1.77658...\n",
       "2  0     -1.866021\n",
       "1     -1.841991\n",
       "2     -1.83502...\n",
       "3  0     -2.073758\n",
       "1     -2.073301\n",
       "2     -2.04460...\n",
       "4  0     -1.746255\n",
       "1     -1.741263\n",
       "2     -1.72274..."
      ]
     },
     "execution_count": 4,
     "metadata": {},
     "output_type": "execute_result"
    }
   ],
   "source": [
    "X.head()"
   ]
  },
  {
   "cell_type": "code",
   "execution_count": 5,
   "id": "b637be05",
   "metadata": {},
   "outputs": [
    {
     "name": "stdout",
     "output_type": "stream",
     "text": [
      "0     -1.963009\n",
      "1     -1.957825\n",
      "2     -1.956145\n",
      "3     -1.938289\n",
      "4     -1.896657\n",
      "         ...   \n",
      "246   -1.841345\n",
      "247   -1.884289\n",
      "248   -1.905393\n",
      "249   -1.923905\n",
      "250   -1.909153\n",
      "Length: 251, dtype: float64\n"
     ]
    }
   ],
   "source": [
    "print(X.iloc[0][0])"
   ]
  },
  {
   "cell_type": "code",
   "execution_count": 6,
   "id": "8616792a",
   "metadata": {},
   "outputs": [
    {
     "data": {
      "text/plain": [
       "array(['0', '1', '2', '0', '1', '2', '0', '1', '2', '0', '1', '2', '0',\n",
       "       '1', '2', '0', '1', '2', '0', '1', '2', '0', '1', '2', '0', '1',\n",
       "       '2', '0', '1', '2', '0', '1', '2', '0', '1', '2', '0', '0', '0',\n",
       "       '0', '0', '0', '0', '0', '0', '0', '0', '0', '0', '0', '0', '0',\n",
       "       '0', '0', '0', '0', '0', '0', '0', '0', '0', '0', '0', '0', '0',\n",
       "       '0', '0', '0', '0', '0', '0', '0', '0', '0', '0', '0', '0', '0',\n",
       "       '0', '0', '0', '0', '0', '0', '0', '0', '0', '0', '0', '0', '0',\n",
       "       '0', '0', '0', '0', '0', '0', '0', '0', '0', '0', '0', '0', '0',\n",
       "       '0', '1', '1', '1', '1', '1', '1', '1', '1', '1', '1', '1', '1',\n",
       "       '1', '1', '1', '1', '1', '1', '1', '1', '1', '1', '1', '1', '1',\n",
       "       '1', '1', '1', '1', '1', '1', '1', '1', '1', '1', '1', '1', '1',\n",
       "       '1', '1', '1', '1', '1', '1', '1', '1', '1', '1', '1', '1', '1',\n",
       "       '1', '1', '2', '2', '2', '2', '2', '2', '2', '2', '2', '2', '2',\n",
       "       '2', '2', '2', '2', '2', '2', '2', '2', '2', '2', '2', '2', '2',\n",
       "       '2', '2', '2', '2', '2', '2', '2', '2', '2', '2', '2', '2', '2',\n",
       "       '2', '2', '2', '2', '2', '2', '2', '2', '2', '2', '2', '2', '2',\n",
       "       '2', '2', '2'], dtype='<U1')"
      ]
     },
     "execution_count": 6,
     "metadata": {},
     "output_type": "execute_result"
    }
   ],
   "source": [
    "y"
   ]
  },
  {
   "cell_type": "code",
   "execution_count": 7,
   "id": "4b3d2dc8",
   "metadata": {},
   "outputs": [
    {
     "name": "stdout",
     "output_type": "stream",
     "text": [
      "['0' '1' '2'] [60 54 44]\n"
     ]
    }
   ],
   "source": [
    "# binary target variable\n",
    "labels, counts = np.unique(y_train, return_counts=True)\n",
    "print(labels, counts)"
   ]
  },
  {
   "cell_type": "code",
   "execution_count": 8,
   "id": "f01d933f",
   "metadata": {},
   "outputs": [
    {
     "data": {
      "image/png": "[encoded data removed]",
      "text/plain": [
       "<Figure size 1600x400 with 1 Axes>"
      ]
     },
     "metadata": {},
     "output_type": "display_data"
    }
   ],
   "source": [
    "fig, ax = plt.subplots(1, figsize=plt.figaspect(0.25))\n",
    "for label in labels:\n",
    "    X_train.loc[y_train == label, \"dim_0\"].iloc[0].plot(ax=ax, label=f\"class {label}\")\n",
    "plt.legend()\n",
    "ax.set(title=\"Example time series\", xlabel=\"Time\");"
   ]
  },
  {
   "cell_type": "code",
   "execution_count": 9,
   "id": "78a51b8c",
   "metadata": {},
   "outputs": [
    {
     "data": {
      "text/html": [
       "<div>\n",
       "<style scoped>\n",
       "    .dataframe tbody tr th:only-of-type {\n",
       "        vertical-align: middle;\n",
       "    }\n",
       "\n",
       "    .dataframe tbody tr th {\n",
       "        vertical-align: top;\n",
       "    }\n",
       "\n",
       "    .dataframe thead th {\n",
       "        text-align: right;\n",
       "    }\n",
       "</style>\n",
       "<table border=\"1\" class=\"dataframe\">\n",
       "  <thead>\n",
       "    <tr style=\"text-align: right;\">\n",
       "      <th></th>\n",
       "      <th>dim_0__0</th>\n",
       "      <th>dim_0__1</th>\n",
       "      <th>dim_0__2</th>\n",
       "      <th>dim_0__3</th>\n",
       "      <th>dim_0__4</th>\n",
       "      <th>dim_0__5</th>\n",
       "      <th>dim_0__6</th>\n",
       "      <th>dim_0__7</th>\n",
       "      <th>dim_0__8</th>\n",
       "      <th>dim_0__9</th>\n",
       "      <th>...</th>\n",
       "      <th>dim_0__241</th>\n",
       "      <th>dim_0__242</th>\n",
       "      <th>dim_0__243</th>\n",
       "      <th>dim_0__244</th>\n",
       "      <th>dim_0__245</th>\n",
       "      <th>dim_0__246</th>\n",
       "      <th>dim_0__247</th>\n",
       "      <th>dim_0__248</th>\n",
       "      <th>dim_0__249</th>\n",
       "      <th>dim_0__250</th>\n",
       "    </tr>\n",
       "  </thead>\n",
       "  <tbody>\n",
       "    <tr>\n",
       "      <th>33</th>\n",
       "      <td>-2.130812</td>\n",
       "      <td>-2.104430</td>\n",
       "      <td>-2.074755</td>\n",
       "      <td>-2.025406</td>\n",
       "      <td>-1.944910</td>\n",
       "      <td>-1.860405</td>\n",
       "      <td>-1.790645</td>\n",
       "      <td>-1.717512</td>\n",
       "      <td>-1.657323</td>\n",
       "      <td>-1.616462</td>\n",
       "      <td>...</td>\n",
       "      <td>-1.631596</td>\n",
       "      <td>-1.716735</td>\n",
       "      <td>-1.735734</td>\n",
       "      <td>-1.811056</td>\n",
       "      <td>-1.859587</td>\n",
       "      <td>-1.944460</td>\n",
       "      <td>-2.003032</td>\n",
       "      <td>-2.034098</td>\n",
       "      <td>-2.080031</td>\n",
       "      <td>-2.103448</td>\n",
       "    </tr>\n",
       "    <tr>\n",
       "      <th>68</th>\n",
       "      <td>-1.895550</td>\n",
       "      <td>-1.896260</td>\n",
       "      <td>-1.880250</td>\n",
       "      <td>-1.896491</td>\n",
       "      <td>-1.875607</td>\n",
       "      <td>-1.833061</td>\n",
       "      <td>-1.829426</td>\n",
       "      <td>-1.800726</td>\n",
       "      <td>-1.767301</td>\n",
       "      <td>-1.739180</td>\n",
       "      <td>...</td>\n",
       "      <td>-1.422673</td>\n",
       "      <td>-1.480816</td>\n",
       "      <td>-1.535985</td>\n",
       "      <td>-1.585074</td>\n",
       "      <td>-1.627124</td>\n",
       "      <td>-1.655245</td>\n",
       "      <td>-1.708382</td>\n",
       "      <td>-1.775232</td>\n",
       "      <td>-1.836068</td>\n",
       "      <td>-1.873608</td>\n",
       "    </tr>\n",
       "    <tr>\n",
       "      <th>193</th>\n",
       "      <td>-2.038970</td>\n",
       "      <td>-2.053289</td>\n",
       "      <td>-2.052085</td>\n",
       "      <td>-2.001301</td>\n",
       "      <td>-1.947290</td>\n",
       "      <td>-1.907211</td>\n",
       "      <td>-1.858616</td>\n",
       "      <td>-1.803497</td>\n",
       "      <td>-1.761757</td>\n",
       "      <td>-1.675215</td>\n",
       "      <td>...</td>\n",
       "      <td>-1.729849</td>\n",
       "      <td>-1.786768</td>\n",
       "      <td>-1.839490</td>\n",
       "      <td>-1.884153</td>\n",
       "      <td>-1.925921</td>\n",
       "      <td>-1.963895</td>\n",
       "      <td>-1.985153</td>\n",
       "      <td>-2.019928</td>\n",
       "      <td>-2.007297</td>\n",
       "      <td>-2.025093</td>\n",
       "    </tr>\n",
       "    <tr>\n",
       "      <th>35</th>\n",
       "      <td>-1.801050</td>\n",
       "      <td>-1.798915</td>\n",
       "      <td>-1.778375</td>\n",
       "      <td>-1.759428</td>\n",
       "      <td>-1.701133</td>\n",
       "      <td>-1.671777</td>\n",
       "      <td>-1.620782</td>\n",
       "      <td>-1.564560</td>\n",
       "      <td>-1.534801</td>\n",
       "      <td>-1.470892</td>\n",
       "      <td>...</td>\n",
       "      <td>-1.487580</td>\n",
       "      <td>-1.551490</td>\n",
       "      <td>-1.592632</td>\n",
       "      <td>-1.620071</td>\n",
       "      <td>-1.688095</td>\n",
       "      <td>-1.717157</td>\n",
       "      <td>-1.759057</td>\n",
       "      <td>-1.796549</td>\n",
       "      <td>-1.798544</td>\n",
       "      <td>-1.801050</td>\n",
       "    </tr>\n",
       "    <tr>\n",
       "      <th>155</th>\n",
       "      <td>-1.735623</td>\n",
       "      <td>-1.730093</td>\n",
       "      <td>-1.694933</td>\n",
       "      <td>-1.689494</td>\n",
       "      <td>-1.649237</td>\n",
       "      <td>-1.637335</td>\n",
       "      <td>-1.562168</td>\n",
       "      <td>-1.522661</td>\n",
       "      <td>-1.481994</td>\n",
       "      <td>-1.445810</td>\n",
       "      <td>...</td>\n",
       "      <td>-1.565695</td>\n",
       "      <td>-1.600992</td>\n",
       "      <td>-1.614987</td>\n",
       "      <td>-1.647348</td>\n",
       "      <td>-1.651626</td>\n",
       "      <td>-1.682189</td>\n",
       "      <td>-1.711068</td>\n",
       "      <td>-1.713207</td>\n",
       "      <td>-1.713116</td>\n",
       "      <td>-1.735601</td>\n",
       "    </tr>\n",
       "  </tbody>\n",
       "</table>\n",
       "<p>5 rows × 251 columns</p>\n",
       "</div>"
      ],
      "text/plain": [
       "     dim_0__0  dim_0__1  dim_0__2  dim_0__3  dim_0__4  dim_0__5  dim_0__6  \\\n",
       "33  -2.130812 -2.104430 -2.074755 -2.025406 -1.944910 -1.860405 -1.790645   \n",
       "68  -1.895550 -1.896260 -1.880250 -1.896491 -1.875607 -1.833061 -1.829426   \n",
       "193 -2.038970 -2.053289 -2.052085 -2.001301 -1.947290 -1.907211 -1.858616   \n",
       "35  -1.801050 -1.798915 -1.778375 -1.759428 -1.701133 -1.671777 -1.620782   \n",
       "155 -1.735623 -1.730093 -1.694933 -1.689494 -1.649237 -1.637335 -1.562168   \n",
       "\n",
       "     dim_0__7  dim_0__8  dim_0__9  ...  dim_0__241  dim_0__242  dim_0__243  \\\n",
       "33  -1.717512 -1.657323 -1.616462  ...   -1.631596   -1.716735   -1.735734   \n",
       "68  -1.800726 -1.767301 -1.739180  ...   -1.422673   -1.480816   -1.535985   \n",
       "193 -1.803497 -1.761757 -1.675215  ...   -1.729849   -1.786768   -1.839490   \n",
       "35  -1.564560 -1.534801 -1.470892  ...   -1.487580   -1.551490   -1.592632   \n",
       "155 -1.522661 -1.481994 -1.445810  ...   -1.565695   -1.600992   -1.614987   \n",
       "\n",
       "     dim_0__244  dim_0__245  dim_0__246  dim_0__247  dim_0__248  dim_0__249  \\\n",
       "33    -1.811056   -1.859587   -1.944460   -2.003032   -2.034098   -2.080031   \n",
       "68    -1.585074   -1.627124   -1.655245   -1.708382   -1.775232   -1.836068   \n",
       "193   -1.884153   -1.925921   -1.963895   -1.985153   -2.019928   -2.007297   \n",
       "35    -1.620071   -1.688095   -1.717157   -1.759057   -1.796549   -1.798544   \n",
       "155   -1.647348   -1.651626   -1.682189   -1.711068   -1.713207   -1.713116   \n",
       "\n",
       "     dim_0__250  \n",
       "33    -2.103448  \n",
       "68    -1.873608  \n",
       "193   -2.025093  \n",
       "35    -1.801050  \n",
       "155   -1.735601  \n",
       "\n",
       "[5 rows x 251 columns]"
      ]
     },
     "execution_count": 9,
     "metadata": {},
     "output_type": "execute_result"
    }
   ],
   "source": [
    "from sklearn.ensemble import RandomForestClassifier\n",
    "\n",
    "from sktime.datatypes._panel._convert import from_nested_to_2d_array\n",
    "\n",
    "X_train_tab = from_nested_to_2d_array(X_train)\n",
    "X_test_tab = from_nested_to_2d_array(X_test)\n",
    "\n",
    "X_train_tab.head()"
   ]
  },
  {
   "cell_type": "code",
   "execution_count": 10,
   "id": "b3c5cfd8",
   "metadata": {},
   "outputs": [
    {
     "data": {
      "text/plain": [
       "0.8867924528301887"
      ]
     },
     "execution_count": 10,
     "metadata": {},
     "output_type": "execute_result"
    }
   ],
   "source": [
    "# now we can apply any scikit-learn classifier\n",
    "classifier = RandomForestClassifier(n_estimators=100)\n",
    "classifier.fit(X_train_tab, y_train)\n",
    "y_pred = classifier.predict(X_test_tab)\n",
    "accuracy_score(y_test, y_pred)"
   ]
  },
  {
   "cell_type": "code",
   "execution_count": 11,
   "id": "daa82d60",
   "metadata": {},
   "outputs": [
    {
     "data": {
      "text/plain": [
       "0.8490566037735849"
      ]
     },
     "execution_count": 11,
     "metadata": {},
     "output_type": "execute_result"
    }
   ],
   "source": [
    "from sklearn.pipeline import make_pipeline\n",
    "\n",
    "# with sktime, we can write this as a pipeline\n",
    "from sktime.transformations.panel.reduce import Tabularizer\n",
    "\n",
    "classifier = make_pipeline(Tabularizer(), RandomForestClassifier())\n",
    "classifier.fit(X_train, y_train)\n",
    "classifier.score(X_test, y_test)"
   ]
  },
  {
   "cell_type": "code",
   "execution_count": 12,
   "id": "f1cc1678",
   "metadata": {},
   "outputs": [
    {
     "data": {
      "text/html": [
       "<style>#sk-container-id-1 {color: black;background-color: white;}#sk-container-id-1 pre{padding: 0;}#sk-container-id-1 div.sk-toggleable {background-color: white;}#sk-container-id-1 label.sk-toggleable__label {cursor: pointer;display: block;width: 100%;margin-bottom: 0;padding: 0.3em;box-sizing: border-box;text-align: center;}#sk-container-id-1 label.sk-toggleable__label-arrow:before {content: \"▸\";float: left;margin-right: 0.25em;color: #696969;}#sk-container-id-1 label.sk-toggleable__label-arrow:hover:before {color: black;}#sk-container-id-1 div.sk-estimator:hover label.sk-toggleable__label-arrow:before {color: black;}#sk-container-id-1 div.sk-toggleable__content {max-height: 0;max-width: 0;overflow: hidden;text-align: left;background-color: #f0f8ff;}#sk-container-id-1 div.sk-toggleable__content pre {margin: 0.2em;color: black;border-radius: 0.25em;background-color: #f0f8ff;}#sk-container-id-1 input.sk-toggleable__control:checked~div.sk-toggleable__content {max-height: 200px;max-width: 100%;overflow: auto;}#sk-container-id-1 input.sk-toggleable__control:checked~label.sk-toggleable__label-arrow:before {content: \"▾\";}#sk-container-id-1 div.sk-estimator input.sk-toggleable__control:checked~label.sk-toggleable__label {background-color: #d4ebff;}#sk-container-id-1 div.sk-label input.sk-toggleable__control:checked~label.sk-toggleable__label {background-color: #d4ebff;}#sk-container-id-1 input.sk-hidden--visually {border: 0;clip: rect(1px 1px 1px 1px);clip: rect(1px, 1px, 1px, 1px);height: 1px;margin: -1px;overflow: hidden;padding: 0;position: absolute;width: 1px;}#sk-container-id-1 div.sk-estimator {font-family: monospace;background-color: #f0f8ff;border: 1px dotted black;border-radius: 0.25em;box-sizing: border-box;margin-bottom: 0.5em;}#sk-container-id-1 div.sk-estimator:hover {background-color: #d4ebff;}#sk-container-id-1 div.sk-parallel-item::after {content: \"\";width: 100%;border-bottom: 1px solid gray;flex-grow: 1;}#sk-container-id-1 div.sk-label:hover label.sk-toggleable__label {background-color: #d4ebff;}#sk-container-id-1 div.sk-serial::before {content: \"\";position: absolute;border-left: 1px solid gray;box-sizing: border-box;top: 0;bottom: 0;left: 50%;z-index: 0;}#sk-container-id-1 div.sk-serial {display: flex;flex-direction: column;align-items: center;background-color: white;padding-right: 0.2em;padding-left: 0.2em;position: relative;}#sk-container-id-1 div.sk-item {position: relative;z-index: 1;}#sk-container-id-1 div.sk-parallel {display: flex;align-items: stretch;justify-content: center;background-color: white;position: relative;}#sk-container-id-1 div.sk-item::before, #sk-container-id-1 div.sk-parallel-item::before {content: \"\";position: absolute;border-left: 1px solid gray;box-sizing: border-box;top: 0;bottom: 0;left: 50%;z-index: -1;}#sk-container-id-1 div.sk-parallel-item {display: flex;flex-direction: column;z-index: 1;position: relative;background-color: white;}#sk-container-id-1 div.sk-parallel-item:first-child::after {align-self: flex-end;width: 50%;}#sk-container-id-1 div.sk-parallel-item:last-child::after {align-self: flex-start;width: 50%;}#sk-container-id-1 div.sk-parallel-item:only-child::after {width: 0;}#sk-container-id-1 div.sk-dashed-wrapped {border: 1px dashed gray;margin: 0 0.4em 0.5em 0.4em;box-sizing: border-box;padding-bottom: 0.4em;background-color: white;}#sk-container-id-1 div.sk-label label {font-family: monospace;font-weight: bold;display: inline-block;line-height: 1.2em;}#sk-container-id-1 div.sk-label-container {text-align: center;}#sk-container-id-1 div.sk-container {/* jupyter's `normalize.less` sets `[hidden] { display: none; }` but bootstrap.min.css set `[hidden] { display: none !important; }` so we also need the `!important` here to be able to override the default hidden behavior on the sphinx rendered scikit-learn.org. See: https://github.com/scikit-learn/scikit-learn/issues/21755 */display: inline-block !important;position: relative;}#sk-container-id-1 div.sk-text-repr-fallback {display: none;}</style><div id=\"sk-container-id-1\" class=\"sk-top-container\"><div class=\"sk-text-repr-fallback\"><pre>Pipeline(steps=[(&#x27;tabularizer&#x27;, Tabularizer()),\n",
       "                (&#x27;randomforestclassifier&#x27;, RandomForestClassifier())])</pre><b>In a Jupyter environment, please rerun this cell to show the HTML representation or trust the notebook. <br />On GitHub, the HTML representation is unable to render, please try loading this page with nbviewer.org.</b></div><div class=\"sk-container\" hidden><div class=\"sk-item sk-dashed-wrapped\"><div class=\"sk-label-container\"><div class=\"sk-label sk-toggleable\"><input class=\"sk-toggleable__control sk-hidden--visually\" id=\"sk-estimator-id-1\" type=\"checkbox\" ><label for=\"sk-estimator-id-1\" class=\"sk-toggleable__label sk-toggleable__label-arrow\">Pipeline</label><div class=\"sk-toggleable__content\"><pre>Pipeline(steps=[(&#x27;tabularizer&#x27;, Tabularizer()),\n",
       "                (&#x27;randomforestclassifier&#x27;, RandomForestClassifier())])</pre></div></div></div><div class=\"sk-serial\"><div class=\"sk-item\"><div class=\"sk-estimator sk-toggleable\"><input class=\"sk-toggleable__control sk-hidden--visually\" id=\"sk-estimator-id-2\" type=\"checkbox\" ><label for=\"sk-estimator-id-2\" class=\"sk-toggleable__label sk-toggleable__label-arrow\">Tabularizer</label><div class=\"sk-toggleable__content\"><pre>Tabularizer()</pre></div></div></div><div class=\"sk-item\"><div class=\"sk-estimator sk-toggleable\"><input class=\"sk-toggleable__control sk-hidden--visually\" id=\"sk-estimator-id-3\" type=\"checkbox\" ><label for=\"sk-estimator-id-3\" class=\"sk-toggleable__label sk-toggleable__label-arrow\">RandomForestClassifier</label><div class=\"sk-toggleable__content\"><pre>RandomForestClassifier()</pre></div></div></div></div></div></div></div>"
      ],
      "text/plain": [
       "Pipeline(steps=[('tabularizer', Tabularizer()),\n",
       "                ('randomforestclassifier', RandomForestClassifier())])"
      ]
     },
     "execution_count": 12,
     "metadata": {},
     "output_type": "execute_result"
    }
   ],
   "source": [
    "classifier"
   ]
  },
  {
   "cell_type": "code",
   "execution_count": 13,
   "id": "73864dad",
   "metadata": {},
   "outputs": [
    {
     "data": {
      "text/plain": [
       "sklearn.pipeline.Pipeline"
      ]
     },
     "execution_count": 13,
     "metadata": {},
     "output_type": "execute_result"
    }
   ],
   "source": [
    "type(classifier)"
   ]
  },
  {
   "cell_type": "code",
   "execution_count": 14,
   "id": "834b50a6",
   "metadata": {},
   "outputs": [
    {
     "data": {
      "text/plain": [
       "sktime.transformations.panel.reduce.Tabularizer"
      ]
     },
     "execution_count": 14,
     "metadata": {},
     "output_type": "execute_result"
    }
   ],
   "source": [
    "type(Tabularizer())"
   ]
  },
  {
   "cell_type": "code",
   "execution_count": 15,
   "id": "0d74de17",
   "metadata": {},
   "outputs": [
    {
     "name": "stderr",
     "output_type": "stream",
     "text": [
      "Feature Extraction: 100%|██████████████████████████████████████████████████████████| 158/158 [00:00<00:00, 1591.32it/s]\n"
     ]
    },
    {
     "data": {
      "text/html": [
       "<div>\n",
       "<style scoped>\n",
       "    .dataframe tbody tr th:only-of-type {\n",
       "        vertical-align: middle;\n",
       "    }\n",
       "\n",
       "    .dataframe tbody tr th {\n",
       "        vertical-align: top;\n",
       "    }\n",
       "\n",
       "    .dataframe thead th {\n",
       "        text-align: right;\n",
       "    }\n",
       "</style>\n",
       "<table border=\"1\" class=\"dataframe\">\n",
       "  <thead>\n",
       "    <tr style=\"text-align: right;\">\n",
       "      <th></th>\n",
       "      <th>dim_0__sum_values</th>\n",
       "      <th>dim_0__median</th>\n",
       "      <th>dim_0__mean</th>\n",
       "      <th>dim_0__length</th>\n",
       "      <th>dim_0__standard_deviation</th>\n",
       "      <th>dim_0__variance</th>\n",
       "      <th>dim_0__root_mean_square</th>\n",
       "      <th>dim_0__maximum</th>\n",
       "      <th>dim_0__absolute_maximum</th>\n",
       "      <th>dim_0__minimum</th>\n",
       "    </tr>\n",
       "  </thead>\n",
       "  <tbody>\n",
       "    <tr>\n",
       "      <th>0</th>\n",
       "      <td>-4.378000e-07</td>\n",
       "      <td>0.042834</td>\n",
       "      <td>-1.744223e-09</td>\n",
       "      <td>251.0</td>\n",
       "      <td>0.998006</td>\n",
       "      <td>0.996016</td>\n",
       "      <td>0.998006</td>\n",
       "      <td>1.799248</td>\n",
       "      <td>2.130812</td>\n",
       "      <td>-2.130812</td>\n",
       "    </tr>\n",
       "    <tr>\n",
       "      <th>1</th>\n",
       "      <td>-5.018000e-08</td>\n",
       "      <td>-0.010786</td>\n",
       "      <td>-1.999203e-10</td>\n",
       "      <td>251.0</td>\n",
       "      <td>0.998006</td>\n",
       "      <td>0.996016</td>\n",
       "      <td>0.998006</td>\n",
       "      <td>1.636446</td>\n",
       "      <td>1.896491</td>\n",
       "      <td>-1.896491</td>\n",
       "    </tr>\n",
       "    <tr>\n",
       "      <th>2</th>\n",
       "      <td>-5.820000e-07</td>\n",
       "      <td>0.026784</td>\n",
       "      <td>-2.318725e-09</td>\n",
       "      <td>251.0</td>\n",
       "      <td>0.998006</td>\n",
       "      <td>0.996016</td>\n",
       "      <td>0.998006</td>\n",
       "      <td>1.279236</td>\n",
       "      <td>2.053289</td>\n",
       "      <td>-2.053289</td>\n",
       "    </tr>\n",
       "    <tr>\n",
       "      <th>3</th>\n",
       "      <td>5.364000e-07</td>\n",
       "      <td>0.138155</td>\n",
       "      <td>2.137052e-09</td>\n",
       "      <td>251.0</td>\n",
       "      <td>0.998006</td>\n",
       "      <td>0.996016</td>\n",
       "      <td>0.998006</td>\n",
       "      <td>1.352713</td>\n",
       "      <td>1.801050</td>\n",
       "      <td>-1.801050</td>\n",
       "    </tr>\n",
       "    <tr>\n",
       "      <th>4</th>\n",
       "      <td>1.470000e-07</td>\n",
       "      <td>-0.002138</td>\n",
       "      <td>5.856574e-10</td>\n",
       "      <td>251.0</td>\n",
       "      <td>0.998006</td>\n",
       "      <td>0.996016</td>\n",
       "      <td>0.998006</td>\n",
       "      <td>1.507846</td>\n",
       "      <td>1.735623</td>\n",
       "      <td>-1.735623</td>\n",
       "    </tr>\n",
       "  </tbody>\n",
       "</table>\n",
       "</div>"
      ],
      "text/plain": [
       "   dim_0__sum_values  dim_0__median   dim_0__mean  dim_0__length  \\\n",
       "0      -4.378000e-07       0.042834 -1.744223e-09          251.0   \n",
       "1      -5.018000e-08      -0.010786 -1.999203e-10          251.0   \n",
       "2      -5.820000e-07       0.026784 -2.318725e-09          251.0   \n",
       "3       5.364000e-07       0.138155  2.137052e-09          251.0   \n",
       "4       1.470000e-07      -0.002138  5.856574e-10          251.0   \n",
       "\n",
       "   dim_0__standard_deviation  dim_0__variance  dim_0__root_mean_square  \\\n",
       "0                   0.998006         0.996016                 0.998006   \n",
       "1                   0.998006         0.996016                 0.998006   \n",
       "2                   0.998006         0.996016                 0.998006   \n",
       "3                   0.998006         0.996016                 0.998006   \n",
       "4                   0.998006         0.996016                 0.998006   \n",
       "\n",
       "   dim_0__maximum  dim_0__absolute_maximum  dim_0__minimum  \n",
       "0        1.799248                 2.130812       -2.130812  \n",
       "1        1.636446                 1.896491       -1.896491  \n",
       "2        1.279236                 2.053289       -2.053289  \n",
       "3        1.352713                 1.801050       -1.801050  \n",
       "4        1.507846                 1.735623       -1.735623  "
      ]
     },
     "execution_count": 15,
     "metadata": {},
     "output_type": "execute_result"
    }
   ],
   "source": [
    "from sktime.transformations.panel.tsfresh import TSFreshFeatureExtractor\n",
    "\n",
    "transformer = TSFreshFeatureExtractor(default_fc_parameters=\"minimal\")\n",
    "extracted_features = transformer.fit_transform(X_train)\n",
    "extracted_features.head()"
   ]
  },
  {
   "cell_type": "code",
   "execution_count": 17,
   "id": "4b25d3af",
   "metadata": {},
   "outputs": [
    {
     "data": {
      "text/plain": [
       "(158, 10)"
      ]
     },
     "execution_count": 17,
     "metadata": {},
     "output_type": "execute_result"
    }
   ],
   "source": [
    "extracted_features.shape"
   ]
  },
  {
   "cell_type": "code",
   "execution_count": 16,
   "id": "9f97bbfb",
   "metadata": {},
   "outputs": [
    {
     "name": "stderr",
     "output_type": "stream",
     "text": [
      "Feature Extraction: 100%|████████████████████████████████████████████████████████████| 158/158 [00:11<00:00, 14.16it/s]\n",
      "Feature Extraction: 100%|██████████████████████████████████████████████████████████████| 53/53 [00:03<00:00, 14.18it/s]\n"
     ]
    },
    {
     "data": {
      "text/plain": [
       "0.8301886792452831"
      ]
     },
     "execution_count": 16,
     "metadata": {},
     "output_type": "execute_result"
    }
   ],
   "source": [
    "classifier = make_pipeline(\n",
    "    TSFreshFeatureExtractor(show_warnings=False), RandomForestClassifier()\n",
    ")\n",
    "classifier.fit(X_train, y_train)\n",
    "classifier.score(X_test, y_test)"
   ]
  },
  {
   "cell_type": "code",
   "execution_count": 30,
   "id": "318010a1",
   "metadata": {},
   "outputs": [
    {
     "data": {
      "text/html": [
       "<style>#sk-container-id-4 {color: black;background-color: white;}#sk-container-id-4 pre{padding: 0;}#sk-container-id-4 div.sk-toggleable {background-color: white;}#sk-container-id-4 label.sk-toggleable__label {cursor: pointer;display: block;width: 100%;margin-bottom: 0;padding: 0.3em;box-sizing: border-box;text-align: center;}#sk-container-id-4 label.sk-toggleable__label-arrow:before {content: \"▸\";float: left;margin-right: 0.25em;color: #696969;}#sk-container-id-4 label.sk-toggleable__label-arrow:hover:before {color: black;}#sk-container-id-4 div.sk-estimator:hover label.sk-toggleable__label-arrow:before {color: black;}#sk-container-id-4 div.sk-toggleable__content {max-height: 0;max-width: 0;overflow: hidden;text-align: left;background-color: #f0f8ff;}#sk-container-id-4 div.sk-toggleable__content pre {margin: 0.2em;color: black;border-radius: 0.25em;background-color: #f0f8ff;}#sk-container-id-4 input.sk-toggleable__control:checked~div.sk-toggleable__content {max-height: 200px;max-width: 100%;overflow: auto;}#sk-container-id-4 input.sk-toggleable__control:checked~label.sk-toggleable__label-arrow:before {content: \"▾\";}#sk-container-id-4 div.sk-estimator input.sk-toggleable__control:checked~label.sk-toggleable__label {background-color: #d4ebff;}#sk-container-id-4 div.sk-label input.sk-toggleable__control:checked~label.sk-toggleable__label {background-color: #d4ebff;}#sk-container-id-4 input.sk-hidden--visually {border: 0;clip: rect(1px 1px 1px 1px);clip: rect(1px, 1px, 1px, 1px);height: 1px;margin: -1px;overflow: hidden;padding: 0;position: absolute;width: 1px;}#sk-container-id-4 div.sk-estimator {font-family: monospace;background-color: #f0f8ff;border: 1px dotted black;border-radius: 0.25em;box-sizing: border-box;margin-bottom: 0.5em;}#sk-container-id-4 div.sk-estimator:hover {background-color: #d4ebff;}#sk-container-id-4 div.sk-parallel-item::after {content: \"\";width: 100%;border-bottom: 1px solid gray;flex-grow: 1;}#sk-container-id-4 div.sk-label:hover label.sk-toggleable__label {background-color: #d4ebff;}#sk-container-id-4 div.sk-serial::before {content: \"\";position: absolute;border-left: 1px solid gray;box-sizing: border-box;top: 0;bottom: 0;left: 50%;z-index: 0;}#sk-container-id-4 div.sk-serial {display: flex;flex-direction: column;align-items: center;background-color: white;padding-right: 0.2em;padding-left: 0.2em;position: relative;}#sk-container-id-4 div.sk-item {position: relative;z-index: 1;}#sk-container-id-4 div.sk-parallel {display: flex;align-items: stretch;justify-content: center;background-color: white;position: relative;}#sk-container-id-4 div.sk-item::before, #sk-container-id-4 div.sk-parallel-item::before {content: \"\";position: absolute;border-left: 1px solid gray;box-sizing: border-box;top: 0;bottom: 0;left: 50%;z-index: -1;}#sk-container-id-4 div.sk-parallel-item {display: flex;flex-direction: column;z-index: 1;position: relative;background-color: white;}#sk-container-id-4 div.sk-parallel-item:first-child::after {align-self: flex-end;width: 50%;}#sk-container-id-4 div.sk-parallel-item:last-child::after {align-self: flex-start;width: 50%;}#sk-container-id-4 div.sk-parallel-item:only-child::after {width: 0;}#sk-container-id-4 div.sk-dashed-wrapped {border: 1px dashed gray;margin: 0 0.4em 0.5em 0.4em;box-sizing: border-box;padding-bottom: 0.4em;background-color: white;}#sk-container-id-4 div.sk-label label {font-family: monospace;font-weight: bold;display: inline-block;line-height: 1.2em;}#sk-container-id-4 div.sk-label-container {text-align: center;}#sk-container-id-4 div.sk-container {/* jupyter's `normalize.less` sets `[hidden] { display: none; }` but bootstrap.min.css set `[hidden] { display: none !important; }` so we also need the `!important` here to be able to override the default hidden behavior on the sphinx rendered scikit-learn.org. See: https://github.com/scikit-learn/scikit-learn/issues/21755 */display: inline-block !important;position: relative;}#sk-container-id-4 div.sk-text-repr-fallback {display: none;}</style><div id=\"sk-container-id-4\" class=\"sk-top-container\"><div class=\"sk-text-repr-fallback\"><pre>Pipeline(steps=[(&#x27;extract&#x27;,\n",
       "                 RandomIntervalFeatureExtractor(features=[&lt;function mean at 0x00000224E99F0DC0&gt;,\n",
       "                                                          &lt;function std at 0x00000224E99F0F70&gt;,\n",
       "                                                          &lt;function _slope at 0x00000224FD4174C0&gt;])),\n",
       "                (&#x27;clf&#x27;, DecisionTreeClassifier())])</pre><b>In a Jupyter environment, please rerun this cell to show the HTML representation or trust the notebook. <br />On GitHub, the HTML representation is unable to render, please try loading this page with nbviewer.org.</b></div><div class=\"sk-container\" hidden><div class=\"sk-item sk-dashed-wrapped\"><div class=\"sk-label-container\"><div class=\"sk-label sk-toggleable\"><input class=\"sk-toggleable__control sk-hidden--visually\" id=\"sk-estimator-id-10\" type=\"checkbox\" ><label for=\"sk-estimator-id-10\" class=\"sk-toggleable__label sk-toggleable__label-arrow\">Pipeline</label><div class=\"sk-toggleable__content\"><pre>Pipeline(steps=[(&#x27;extract&#x27;,\n",
       "                 RandomIntervalFeatureExtractor(features=[&lt;function mean at 0x00000224E99F0DC0&gt;,\n",
       "                                                          &lt;function std at 0x00000224E99F0F70&gt;,\n",
       "                                                          &lt;function _slope at 0x00000224FD4174C0&gt;])),\n",
       "                (&#x27;clf&#x27;, DecisionTreeClassifier())])</pre></div></div></div><div class=\"sk-serial\"><div class=\"sk-item\"><div class=\"sk-estimator sk-toggleable\"><input class=\"sk-toggleable__control sk-hidden--visually\" id=\"sk-estimator-id-11\" type=\"checkbox\" ><label for=\"sk-estimator-id-11\" class=\"sk-toggleable__label sk-toggleable__label-arrow\">RandomIntervalFeatureExtractor</label><div class=\"sk-toggleable__content\"><pre>RandomIntervalFeatureExtractor(features=[&lt;function mean at 0x00000224E99F0DC0&gt;,\n",
       "                                         &lt;function std at 0x00000224E99F0F70&gt;,\n",
       "                                         &lt;function _slope at 0x00000224FD4174C0&gt;])</pre></div></div></div><div class=\"sk-item\"><div class=\"sk-estimator sk-toggleable\"><input class=\"sk-toggleable__control sk-hidden--visually\" id=\"sk-estimator-id-12\" type=\"checkbox\" ><label for=\"sk-estimator-id-12\" class=\"sk-toggleable__label sk-toggleable__label-arrow\">DecisionTreeClassifier</label><div class=\"sk-toggleable__content\"><pre>DecisionTreeClassifier()</pre></div></div></div></div></div></div></div>"
      ],
      "text/plain": [
       "Pipeline(steps=[('extract',\n",
       "                 RandomIntervalFeatureExtractor(features=[<function mean at 0x00000224E99F0DC0>,\n",
       "                                                          <function std at 0x00000224E99F0F70>,\n",
       "                                                          <function _slope at 0x00000224FD4174C0>])),\n",
       "                ('clf', DecisionTreeClassifier())])"
      ]
     },
     "execution_count": 30,
     "metadata": {},
     "output_type": "execute_result"
    }
   ],
   "source": [
    "time_series_tree"
   ]
  },
  {
   "cell_type": "code",
   "execution_count": 41,
   "id": "27d33615",
   "metadata": {},
   "outputs": [
    {
     "data": {
      "text/plain": [
       "0.8113207547169812"
      ]
     },
     "execution_count": 41,
     "metadata": {},
     "output_type": "execute_result"
    }
   ],
   "source": [
    "from sktime.classification.interval_based import TimeSeriesForestClassifier\n",
    "tsf = TimeSeriesForestClassifier()\n",
    "tsf.fit(X_train, y_train)\n",
    "tsf.score(X_test, y_test)"
   ]
  },
  {
   "cell_type": "code",
   "execution_count": 42,
   "id": "e07e010d",
   "metadata": {},
   "outputs": [
    {
     "data": {
      "text/html": [
       "<style>#sk-container-id-7 {color: black;background-color: white;}#sk-container-id-7 pre{padding: 0;}#sk-container-id-7 div.sk-toggleable {background-color: white;}#sk-container-id-7 label.sk-toggleable__label {cursor: pointer;display: block;width: 100%;margin-bottom: 0;padding: 0.3em;box-sizing: border-box;text-align: center;}#sk-container-id-7 label.sk-toggleable__label-arrow:before {content: \"▸\";float: left;margin-right: 0.25em;color: #696969;}#sk-container-id-7 label.sk-toggleable__label-arrow:hover:before {color: black;}#sk-container-id-7 div.sk-estimator:hover label.sk-toggleable__label-arrow:before {color: black;}#sk-container-id-7 div.sk-toggleable__content {max-height: 0;max-width: 0;overflow: hidden;text-align: left;background-color: #f0f8ff;}#sk-container-id-7 div.sk-toggleable__content pre {margin: 0.2em;color: black;border-radius: 0.25em;background-color: #f0f8ff;}#sk-container-id-7 input.sk-toggleable__control:checked~div.sk-toggleable__content {max-height: 200px;max-width: 100%;overflow: auto;}#sk-container-id-7 input.sk-toggleable__control:checked~label.sk-toggleable__label-arrow:before {content: \"▾\";}#sk-container-id-7 div.sk-estimator input.sk-toggleable__control:checked~label.sk-toggleable__label {background-color: #d4ebff;}#sk-container-id-7 div.sk-label input.sk-toggleable__control:checked~label.sk-toggleable__label {background-color: #d4ebff;}#sk-container-id-7 input.sk-hidden--visually {border: 0;clip: rect(1px 1px 1px 1px);clip: rect(1px, 1px, 1px, 1px);height: 1px;margin: -1px;overflow: hidden;padding: 0;position: absolute;width: 1px;}#sk-container-id-7 div.sk-estimator {font-family: monospace;background-color: #f0f8ff;border: 1px dotted black;border-radius: 0.25em;box-sizing: border-box;margin-bottom: 0.5em;}#sk-container-id-7 div.sk-estimator:hover {background-color: #d4ebff;}#sk-container-id-7 div.sk-parallel-item::after {content: \"\";width: 100%;border-bottom: 1px solid gray;flex-grow: 1;}#sk-container-id-7 div.sk-label:hover label.sk-toggleable__label {background-color: #d4ebff;}#sk-container-id-7 div.sk-serial::before {content: \"\";position: absolute;border-left: 1px solid gray;box-sizing: border-box;top: 0;bottom: 0;left: 50%;z-index: 0;}#sk-container-id-7 div.sk-serial {display: flex;flex-direction: column;align-items: center;background-color: white;padding-right: 0.2em;padding-left: 0.2em;position: relative;}#sk-container-id-7 div.sk-item {position: relative;z-index: 1;}#sk-container-id-7 div.sk-parallel {display: flex;align-items: stretch;justify-content: center;background-color: white;position: relative;}#sk-container-id-7 div.sk-item::before, #sk-container-id-7 div.sk-parallel-item::before {content: \"\";position: absolute;border-left: 1px solid gray;box-sizing: border-box;top: 0;bottom: 0;left: 50%;z-index: -1;}#sk-container-id-7 div.sk-parallel-item {display: flex;flex-direction: column;z-index: 1;position: relative;background-color: white;}#sk-container-id-7 div.sk-parallel-item:first-child::after {align-self: flex-end;width: 50%;}#sk-container-id-7 div.sk-parallel-item:last-child::after {align-self: flex-start;width: 50%;}#sk-container-id-7 div.sk-parallel-item:only-child::after {width: 0;}#sk-container-id-7 div.sk-dashed-wrapped {border: 1px dashed gray;margin: 0 0.4em 0.5em 0.4em;box-sizing: border-box;padding-bottom: 0.4em;background-color: white;}#sk-container-id-7 div.sk-label label {font-family: monospace;font-weight: bold;display: inline-block;line-height: 1.2em;}#sk-container-id-7 div.sk-label-container {text-align: center;}#sk-container-id-7 div.sk-container {/* jupyter's `normalize.less` sets `[hidden] { display: none; }` but bootstrap.min.css set `[hidden] { display: none !important; }` so we also need the `!important` here to be able to override the default hidden behavior on the sphinx rendered scikit-learn.org. See: https://github.com/scikit-learn/scikit-learn/issues/21755 */display: inline-block !important;position: relative;}#sk-container-id-7 div.sk-text-repr-fallback {display: none;}</style><div id=\"sk-container-id-7\" class=\"sk-top-container\"><div class=\"sk-text-repr-fallback\"><pre>TimeSeriesForestClassifier()</pre><b>In a Jupyter environment, please rerun this cell to show the HTML representation or trust the notebook. <br />On GitHub, the HTML representation is unable to render, please try loading this page with nbviewer.org.</b></div><div class=\"sk-container\" hidden><div class=\"sk-item\"><div class=\"sk-estimator sk-toggleable\"><input class=\"sk-toggleable__control sk-hidden--visually\" id=\"sk-estimator-id-15\" type=\"checkbox\" checked><label for=\"sk-estimator-id-15\" class=\"sk-toggleable__label sk-toggleable__label-arrow\">TimeSeriesForestClassifier</label><div class=\"sk-toggleable__content\"><pre>TimeSeriesForestClassifier()</pre></div></div></div></div></div>"
      ],
      "text/plain": [
       "TimeSeriesForestClassifier()"
      ]
     },
     "execution_count": 42,
     "metadata": {},
     "output_type": "execute_result"
    }
   ],
   "source": [
    "tsf"
   ]
  },
  {
   "cell_type": "markdown",
   "id": "9994cfee",
   "metadata": {},
   "source": [
    "# Multivariate"
   ]
  },
  {
   "cell_type": "code",
   "execution_count": 43,
   "id": "f67a5bcc",
   "metadata": {},
   "outputs": [
    {
     "name": "stdout",
     "output_type": "stream",
     "text": [
      "(60, 6) (60,) (20, 6) (20,)\n"
     ]
    }
   ],
   "source": [
    "X, y = load_basic_motions(return_X_y=True)\n",
    "X_train, X_test, y_train, y_test = train_test_split(X, y, random_state=42)\n",
    "print(X_train.shape, y_train.shape, X_test.shape, y_test.shape)"
   ]
  },
  {
   "cell_type": "code",
   "execution_count": 44,
   "id": "94c691dd",
   "metadata": {},
   "outputs": [
    {
     "data": {
      "text/html": [
       "<div>\n",
       "<style scoped>\n",
       "    .dataframe tbody tr th:only-of-type {\n",
       "        vertical-align: middle;\n",
       "    }\n",
       "\n",
       "    .dataframe tbody tr th {\n",
       "        vertical-align: top;\n",
       "    }\n",
       "\n",
       "    .dataframe thead th {\n",
       "        text-align: right;\n",
       "    }\n",
       "</style>\n",
       "<table border=\"1\" class=\"dataframe\">\n",
       "  <thead>\n",
       "    <tr style=\"text-align: right;\">\n",
       "      <th></th>\n",
       "      <th>dim_0</th>\n",
       "      <th>dim_1</th>\n",
       "      <th>dim_2</th>\n",
       "      <th>dim_3</th>\n",
       "      <th>dim_4</th>\n",
       "      <th>dim_5</th>\n",
       "    </tr>\n",
       "  </thead>\n",
       "  <tbody>\n",
       "    <tr>\n",
       "      <th>9</th>\n",
       "      <td>0    -0.407421\n",
       "1    -0.407421\n",
       "2     2.355158\n",
       "3...</td>\n",
       "      <td>0     1.413374\n",
       "1     1.413374\n",
       "2    -3.928032\n",
       "3...</td>\n",
       "      <td>0     0.092782\n",
       "1     0.092782\n",
       "2    -0.211622\n",
       "3...</td>\n",
       "      <td>0    -0.066584\n",
       "1    -0.066584\n",
       "2    -3.630177\n",
       "3...</td>\n",
       "      <td>0     0.223723\n",
       "1     0.223723\n",
       "2    -0.026634\n",
       "3...</td>\n",
       "      <td>0     0.135832\n",
       "1     0.135832\n",
       "2    -1.946925\n",
       "3...</td>\n",
       "    </tr>\n",
       "    <tr>\n",
       "      <th>64</th>\n",
       "      <td>0     0.383922\n",
       "1     0.383922\n",
       "2    -0.272575\n",
       "3...</td>\n",
       "      <td>0     0.302612\n",
       "1     0.302612\n",
       "2    -1.381236\n",
       "3...</td>\n",
       "      <td>0    -0.398075\n",
       "1    -0.398075\n",
       "2    -0.681258\n",
       "3...</td>\n",
       "      <td>0     0.071911\n",
       "1     0.071911\n",
       "2    -0.761725\n",
       "3...</td>\n",
       "      <td>0     0.175783\n",
       "1     0.175783\n",
       "2    -0.114525\n",
       "3...</td>\n",
       "      <td>0    -0.087891\n",
       "1    -0.087891\n",
       "2    -0.503377\n",
       "3...</td>\n",
       "    </tr>\n",
       "    <tr>\n",
       "      <th>5</th>\n",
       "      <td>0    -0.357300\n",
       "1    -0.357300\n",
       "2    -0.005055\n",
       "3...</td>\n",
       "      <td>0    -0.584885\n",
       "1    -0.584885\n",
       "2     0.295037\n",
       "3...</td>\n",
       "      <td>0    -0.792751\n",
       "1    -0.792751\n",
       "2     0.213664\n",
       "3...</td>\n",
       "      <td>0     0.074574\n",
       "1     0.074574\n",
       "2    -0.157139\n",
       "3...</td>\n",
       "      <td>0     0.159802\n",
       "1     0.159802\n",
       "2    -0.306288\n",
       "3...</td>\n",
       "      <td>0     0.023970\n",
       "1     0.023970\n",
       "2     1.230478\n",
       "3...</td>\n",
       "    </tr>\n",
       "    <tr>\n",
       "      <th>47</th>\n",
       "      <td>0    -0.352746\n",
       "1    -0.352746\n",
       "2    -1.354561\n",
       "3...</td>\n",
       "      <td>0     0.316845\n",
       "1     0.316845\n",
       "2     0.490525\n",
       "3...</td>\n",
       "      <td>0    -0.473779\n",
       "1    -0.473779\n",
       "2     1.454261\n",
       "3...</td>\n",
       "      <td>0    -0.327595\n",
       "1    -0.327595\n",
       "2    -0.269001\n",
       "3...</td>\n",
       "      <td>0     0.106535\n",
       "1     0.106535\n",
       "2     0.021307\n",
       "3...</td>\n",
       "      <td>0     0.197090\n",
       "1     0.197090\n",
       "2     0.460763\n",
       "3...</td>\n",
       "    </tr>\n",
       "    <tr>\n",
       "      <th>34</th>\n",
       "      <td>0      0.052231\n",
       "1      0.052231\n",
       "2     -0.54804...</td>\n",
       "      <td>0     -0.730486\n",
       "1     -0.730486\n",
       "2      0.70700...</td>\n",
       "      <td>0    -0.518104\n",
       "1    -0.518104\n",
       "2    -1.179430\n",
       "3...</td>\n",
       "      <td>0    -0.159802\n",
       "1    -0.159802\n",
       "2    -0.239704\n",
       "3...</td>\n",
       "      <td>0    -0.045277\n",
       "1    -0.045277\n",
       "2     0.023970\n",
       "3...</td>\n",
       "      <td>0     -0.029297\n",
       "1     -0.029297\n",
       "2      0.29829...</td>\n",
       "    </tr>\n",
       "  </tbody>\n",
       "</table>\n",
       "</div>"
      ],
      "text/plain": [
       "                                                dim_0  \\\n",
       "9   0    -0.407421\n",
       "1    -0.407421\n",
       "2     2.355158\n",
       "3...   \n",
       "64  0     0.383922\n",
       "1     0.383922\n",
       "2    -0.272575\n",
       "3...   \n",
       "5   0    -0.357300\n",
       "1    -0.357300\n",
       "2    -0.005055\n",
       "3...   \n",
       "47  0    -0.352746\n",
       "1    -0.352746\n",
       "2    -1.354561\n",
       "3...   \n",
       "34  0      0.052231\n",
       "1      0.052231\n",
       "2     -0.54804...   \n",
       "\n",
       "                                                dim_1  \\\n",
       "9   0     1.413374\n",
       "1     1.413374\n",
       "2    -3.928032\n",
       "3...   \n",
       "64  0     0.302612\n",
       "1     0.302612\n",
       "2    -1.381236\n",
       "3...   \n",
       "5   0    -0.584885\n",
       "1    -0.584885\n",
       "2     0.295037\n",
       "3...   \n",
       "47  0     0.316845\n",
       "1     0.316845\n",
       "2     0.490525\n",
       "3...   \n",
       "34  0     -0.730486\n",
       "1     -0.730486\n",
       "2      0.70700...   \n",
       "\n",
       "                                                dim_2  \\\n",
       "9   0     0.092782\n",
       "1     0.092782\n",
       "2    -0.211622\n",
       "3...   \n",
       "64  0    -0.398075\n",
       "1    -0.398075\n",
       "2    -0.681258\n",
       "3...   \n",
       "5   0    -0.792751\n",
       "1    -0.792751\n",
       "2     0.213664\n",
       "3...   \n",
       "47  0    -0.473779\n",
       "1    -0.473779\n",
       "2     1.454261\n",
       "3...   \n",
       "34  0    -0.518104\n",
       "1    -0.518104\n",
       "2    -1.179430\n",
       "3...   \n",
       "\n",
       "                                                dim_3  \\\n",
       "9   0    -0.066584\n",
       "1    -0.066584\n",
       "2    -3.630177\n",
       "3...   \n",
       "64  0     0.071911\n",
       "1     0.071911\n",
       "2    -0.761725\n",
       "3...   \n",
       "5   0     0.074574\n",
       "1     0.074574\n",
       "2    -0.157139\n",
       "3...   \n",
       "47  0    -0.327595\n",
       "1    -0.327595\n",
       "2    -0.269001\n",
       "3...   \n",
       "34  0    -0.159802\n",
       "1    -0.159802\n",
       "2    -0.239704\n",
       "3...   \n",
       "\n",
       "                                                dim_4  \\\n",
       "9   0     0.223723\n",
       "1     0.223723\n",
       "2    -0.026634\n",
       "3...   \n",
       "64  0     0.175783\n",
       "1     0.175783\n",
       "2    -0.114525\n",
       "3...   \n",
       "5   0     0.159802\n",
       "1     0.159802\n",
       "2    -0.306288\n",
       "3...   \n",
       "47  0     0.106535\n",
       "1     0.106535\n",
       "2     0.021307\n",
       "3...   \n",
       "34  0    -0.045277\n",
       "1    -0.045277\n",
       "2     0.023970\n",
       "3...   \n",
       "\n",
       "                                                dim_5  \n",
       "9   0     0.135832\n",
       "1     0.135832\n",
       "2    -1.946925\n",
       "3...  \n",
       "64  0    -0.087891\n",
       "1    -0.087891\n",
       "2    -0.503377\n",
       "3...  \n",
       "5   0     0.023970\n",
       "1     0.023970\n",
       "2     1.230478\n",
       "3...  \n",
       "47  0     0.197090\n",
       "1     0.197090\n",
       "2     0.460763\n",
       "3...  \n",
       "34  0     -0.029297\n",
       "1     -0.029297\n",
       "2      0.29829...  "
      ]
     },
     "execution_count": 44,
     "metadata": {},
     "output_type": "execute_result"
    }
   ],
   "source": [
    "#  multivariate input data\n",
    "X_train.head()"
   ]
  },
  {
   "cell_type": "code",
   "execution_count": 45,
   "id": "5d86741d",
   "metadata": {},
   "outputs": [
    {
     "data": {
      "text/plain": [
       "array(['badminton', 'running', 'standing', 'walking'], dtype='<U9')"
      ]
     },
     "execution_count": 45,
     "metadata": {},
     "output_type": "execute_result"
    }
   ],
   "source": [
    "# multi-class target variable\n",
    "np.unique(y_train)"
   ]
  },
  {
   "cell_type": "code",
   "execution_count": 49,
   "id": "de01fc01",
   "metadata": {},
   "outputs": [
    {
     "data": {
      "text/plain": [
       "0.2"
      ]
     },
     "execution_count": 49,
     "metadata": {},
     "output_type": "execute_result"
    }
   ],
   "source": [
    "steps = [\n",
    "    (\"concatenate\", ColumnConcatenator()),\n",
    "    (\"classify\", TimeSeriesForestClassifier(n_estimators=100)),\n",
    "]\n",
    "clf = Pipeline(steps)\n",
    "clf.fit(X_train, y_train)\n",
    "clf.score(X_test, y_test)"
   ]
  },
  {
   "cell_type": "code",
   "execution_count": 50,
   "id": "486e7d1f",
   "metadata": {},
   "outputs": [
    {
     "data": {
      "text/plain": [
       "array(['walking', 'running', 'running', 'running', 'badminton', 'walking',\n",
       "       'running', 'walking', 'running', 'running', 'walking', 'standing',\n",
       "       'walking', 'standing', 'running', 'walking', 'walking', 'running',\n",
       "       'walking', 'badminton'], dtype='<U9')"
      ]
     },
     "execution_count": 50,
     "metadata": {},
     "output_type": "execute_result"
    }
   ],
   "source": [
    "clf.predict(X_test)"
   ]
  },
  {
   "cell_type": "code",
   "execution_count": 52,
   "id": "8ec3d8b8",
   "metadata": {},
   "outputs": [
    {
     "data": {
      "text/plain": [
       "array(['badminton', 'standing', 'walking', 'badminton', 'running',\n",
       "       'walking', 'running', 'badminton', 'standing', 'running',\n",
       "       'standing', 'badminton', 'walking', 'badminton', 'walking',\n",
       "       'standing', 'badminton', 'walking', 'running', 'standing'],\n",
       "      dtype='<U9')"
      ]
     },
     "execution_count": 52,
     "metadata": {},
     "output_type": "execute_result"
    }
   ],
   "source": [
    "y_test"
   ]
  },
  {
   "cell_type": "code",
   "execution_count": 53,
   "id": "21f21f29",
   "metadata": {},
   "outputs": [
    {
     "data": {
      "text/plain": [
       "0.9"
      ]
     },
     "execution_count": 53,
     "metadata": {},
     "output_type": "execute_result"
    }
   ],
   "source": [
    "clf = ColumnEnsembleClassifier(\n",
    "    estimators=[\n",
    "        (\"TSF0\", TimeSeriesForestClassifier(n_estimators=100), [0]),\n",
    "        (\"BOSSEnsemble3\", BOSSEnsemble(max_ensemble_size=5), [3]),\n",
    "    ]\n",
    ")\n",
    "clf.fit(X_train, y_train)\n",
    "clf.score(X_test, y_test)"
   ]
  },
  {
   "cell_type": "code",
   "execution_count": 54,
   "id": "b14fb380",
   "metadata": {},
   "outputs": [
    {
     "data": {
      "text/plain": [
       "array(['badminton', 'standing', 'walking', 'badminton', 'running',\n",
       "       'walking', 'running', 'running', 'standing', 'running', 'standing',\n",
       "       'badminton', 'walking', 'badminton', 'walking', 'running',\n",
       "       'badminton', 'walking', 'running', 'standing'], dtype='<U9')"
      ]
     },
     "execution_count": 54,
     "metadata": {},
     "output_type": "execute_result"
    }
   ],
   "source": [
    "clf.predict(X_test)"
   ]
  },
  {
   "cell_type": "code",
   "execution_count": 55,
   "id": "bc2bfbf4",
   "metadata": {},
   "outputs": [
    {
     "data": {
      "text/plain": [
       "array(['badminton', 'standing', 'walking', 'badminton', 'running',\n",
       "       'walking', 'running', 'badminton', 'standing', 'running',\n",
       "       'standing', 'badminton', 'walking', 'badminton', 'walking',\n",
       "       'standing', 'badminton', 'walking', 'running', 'standing'],\n",
       "      dtype='<U9')"
      ]
     },
     "execution_count": 55,
     "metadata": {},
     "output_type": "execute_result"
    }
   ],
   "source": [
    "y_test"
   ]
  },
  {
   "cell_type": "code",
   "execution_count": null,
   "id": "b060e61d",
   "metadata": {},
   "outputs": [],
   "source": []
  }
 ],
 "metadata": {
  "kernelspec": {
   "display_name": "evometric",
   "language": "python",
   "name": "evometric"
  },
  "language_info": {
   "codemirror_mode": {
    "name": "ipython",
    "version": 3
   },
   "file_extension": ".py",
   "mimetype": "text/x-python",
   "name": "python",
   "nbconvert_exporter": "python",
   "pygments_lexer": "ipython3",
   "version": "3.8.13"
  }
 },
 "nbformat": 4,
 "nbformat_minor": 5
}
